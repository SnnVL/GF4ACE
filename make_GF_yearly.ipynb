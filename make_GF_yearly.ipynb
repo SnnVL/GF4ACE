{
 "cells": [
  {
   "cell_type": "markdown",
   "metadata": {},
   "source": [
    "# Create and plot Green's functions & reconstructions"
   ]
  },
  {
   "cell_type": "markdown",
   "metadata": {},
   "source": [
    "## Modules, functions, and settings"
   ]
  },
  {
   "cell_type": "code",
   "execution_count": null,
   "metadata": {},
   "outputs": [],
   "source": [
    "import xarray as xr\n",
    "import numpy as np\n",
    "import matplotlib.pyplot as plt\n",
    "import xcdat as xc\n",
    "import matplotlib as mpl\n",
    "import importlib as imp\n",
    "from cartopy.util import add_cyclic_point\n",
    "from cmcrameri import cm\n",
    "\n",
    "from _model_settings import DIR, model_dct\n",
    "from module_GF import get_ocean_avg, write_line, data_crs, setup_figure"
   ]
  },
  {
   "cell_type": "code",
   "execution_count": null,
   "metadata": {},
   "outputs": [],
   "source": [
    "SAVE_FIGURES = False\n",
    "SHOW_COLORBAR = True"
   ]
  },
  {
   "cell_type": "code",
   "execution_count": null,
   "metadata": {},
   "outputs": [],
   "source": [
    "# Get settings\n",
    "var = 'R'\n",
    "model_list = ['era','eam','fv3']\n",
    "ds_mod = {}\n",
    "for model in model_list:\n",
    "    ds_mod[model] = model_dct[model]\n",
    "    ds_mod[model]['var'] = var\n",
    "    if model=='era':\n",
    "        ds_mod[model]['A_list'] = ['2K','-2K','4K','-4K']\n",
    "    else:\n",
    "        ds_mod[model]['A_list'] = ['2K','-2K']"
   ]
  },
  {
   "cell_type": "markdown",
   "metadata": {},
   "source": [
    "## Load simulations, patches, ocean area, etc."
   ]
  },
  {
   "cell_type": "code",
   "execution_count": null,
   "metadata": {},
   "outputs": [],
   "source": [
    "# Load patches etc.\n",
    "for model in model_list:\n",
    "    dct = ds_mod[model]\n",
    "    \n",
    "    ds_vars = []\n",
    "    for A in dct['A_list']:\n",
    "        # Load patches\n",
    "        dct['patches_'+A] = xc.open_dataset(\\\n",
    "            DIR+'forcing/'+model+'/GFMIP_patches_'+A+'.nc',\\\n",
    "            decode_times=False\\\n",
    "        )\n",
    "        dct['patch_list_'+A] = [item for item in list(dct['patches_'+A].keys()) if item.startswith('patch')]\n",
    "\n",
    "        ds_vars.append(\\\n",
    "            xc.open_dataset(DIR+'output/'+model+'/R_gm_monthly_'+A+'.nc',\\\n",
    "        ).bounds.add_missing_bounds())\n",
    "    dct['vars_gm_monthly'] = xr.merge(ds_vars)\n",
    "\n",
    "    # Load mask\n",
    "    ds_mask = xc.open_dataset(DIR+'output/'+model+'/ocean_mask.nc',decode_times=False)\n",
    "\n",
    "    # Save grid\n",
    "    dct['lat'] = ds_mask[dct['lat_name']].values\n",
    "    dct['lon'] = ds_mask[dct['lon_name']].values\n",
    "    dct['grid'] = ds_mask.regridder.grid\n",
    "\n",
    "    # Save mask\n",
    "    dct['ocean_mask'] = ds_mask['ocean_fraction'].values\n",
    "\n",
    "    # Get ocean area\n",
    "    area = np.cos(np.deg2rad(dct['lat']))\n",
    "    dct['ocean_area'] = area[:,np.newaxis] * dct['ocean_mask']\n",
    "    dct['ocean_area'] = dct['ocean_area']/np.sum(dct['ocean_area'])\n",
    "    \n",
    "    # Decode control time\n",
    "    dct['control_vars_monthly'] = xc.decode_time(\\\n",
    "            dct['vars_gm_monthly'][\\\n",
    "                [item for item in list(dct['vars_gm_monthly'].keys()) if item.endswith('control')]\\\n",
    "            ].rename({'time_control':'time'})\\\n",
    "        ).sel(time=slice('2021-01-01','2040-12-31'))\\\n",
    "        .bounds.add_missing_bounds()"
   ]
  },
  {
   "cell_type": "markdown",
   "metadata": {},
   "source": [
    "## Create Green's functions"
   ]
  },
  {
   "cell_type": "code",
   "execution_count": null,
   "metadata": {},
   "outputs": [],
   "source": [
    "for mod in model_list:\n",
    "    dct = ds_mod[mod]\n",
    "\n",
    "    # Get global mean response; last 10 years only\n",
    "    response_dct = dct['vars_gm_monthly'].sel(time=slice('2023-01-01','2032-12-31'))\n",
    "\n",
    "    # Get control\n",
    "    dct['control'] = dct['control_vars_monthly'].temporal.average(dct['var']+'_control')[dct['var']+'_control'].values\n",
    "\n",
    "    # Loop over patch amplitudes\n",
    "    for A in dct['A_list']:\n",
    "        patch_lst = dct['patch_list_'+A]\n",
    "        patch_dct = dct['patches_'+A]\n",
    "\n",
    "        # Initialize numerator and denominator\n",
    "        dR_dSST_num = np.zeros(\\\n",
    "            (dct['lat'].size,dct['lon'].size))\n",
    "        dR_dSST_den = np.zeros(\\\n",
    "            (dct['lat'].size,dct['lon'].size))\n",
    "        \n",
    "        # Sum over all patches\n",
    "        for ii, patch_loc in enumerate(patch_lst):\n",
    "            # Get patch info\n",
    "            patch_avg = get_ocean_avg(patch_dct,patch_loc,dct)\n",
    "            patch_map = patch_dct[patch_loc].values\n",
    "\n",
    "            # If patch is entirely over land/ice, skip\n",
    "            if np.all(patch_avg==0.):\n",
    "                continue\n",
    "            \n",
    "            # Get patch response anomaly\n",
    "            dR = response_dct.temporal.average(dct['var']+'_'+patch_loc)[dct['var']+'_'+patch_loc].values - dct['control']\n",
    "\n",
    "            # Add to numerator and denominator\n",
    "            dR_dSST_num += (patch_map/patch_avg)*dR\n",
    "            dR_dSST_den += patch_map\n",
    "        \n",
    "        # Create normalized Green's function\n",
    "        dR_dSST_den[dR_dSST_den==0] = np.nan\n",
    "        dct['dR_dSST_star_'+A] = dR_dSST_num/dR_dSST_den\n",
    "\n",
    "        # Apply mask\n",
    "        dct['dR_dSST_star_'+A] = dct['dR_dSST_star_'+A]*dct['ocean_mask']\n",
    "        dct['dR_dSST_star_'+A][np.isnan(dct['dR_dSST_star_'+A])] = 0.\n",
    "    \n",
    "    # Average Green's functions\n",
    "    dct['dR_dSST_star_a2K'] = (dct['dR_dSST_star_2K']+dct['dR_dSST_star_-2K'])/2\n",
    "    dct['A_list'].append('a2K')\n",
    "    if mod=='era':\n",
    "        dct['dR_dSST_star_a4K'] = (dct['dR_dSST_star_4K']+dct['dR_dSST_star_-4K'])/2\n",
    "        dct['A_list'].append('a4K')"
   ]
  },
  {
   "cell_type": "markdown",
   "metadata": {},
   "source": [
    "## Plot Green's functions"
   ]
  },
  {
   "cell_type": "code",
   "execution_count": null,
   "metadata": {},
   "outputs": [],
   "source": [
    "# Limits\n",
    "l = np.linspace(-25,25,26)\n",
    "t = np.linspace(-20,20,5)\n",
    "norm = mpl.colors.BoundaryNorm(l, cm.vik.N)\n",
    "\n",
    "# Plot all Green's functions\n",
    "for ii, mod in enumerate(model_list):\n",
    "    dct = ds_mod[mod]\n",
    "    for jj, A in enumerate(dct['A_list']):\n",
    "        fig, ax = setup_figure(\"global\",nCols=1,nRows=1,size=(9,10),mask=False)\n",
    "        ax.set_facecolor((0.8,0.8,0.8))\n",
    "\n",
    "        # Cyclic boundaries\n",
    "        GF_cyc, lon_cyc = add_cyclic_point(dct['dR_dSST_star_'+A],coord=dct['lon'])\n",
    "\n",
    "        # Mask out land areas\n",
    "        GF_cyc[GF_cyc==0] = np.nan\n",
    "\n",
    "        cf=ax.pcolormesh(lon_cyc,dct['lat'],GF_cyc,norm=norm,transform=data_crs,cmap=cm.vik)\n",
    "        if SHOW_COLORBAR:\n",
    "            cb = plt.colorbar(cf,ax=ax, orientation = \"horizontal\",shrink=1.0, extend='both',ticks=t)\n",
    "            cb.set_label(\"Green's function \"+A+\" [Wm$^{-2}$K$^{-1}$]\")\n",
    "            ax.set_title(dct['model_name'])\n",
    "\n",
    "        if SAVE_FIGURES:\n",
    "            fig.savefig(\"./figures/gf_\"+mod+\"_\"+A+\".png\",bbox_inches='tight',pad_inches = 0,dpi=300)\n",
    "        plt.show()"
   ]
  },
  {
   "cell_type": "markdown",
   "metadata": {},
   "source": [
    "## Plot historical net ToA reconstruction"
   ]
  },
  {
   "cell_type": "code",
   "execution_count": null,
   "metadata": {},
   "outputs": [],
   "source": [
    "# Get historical SST\n",
    "ds_hist = xc.open_dataset(\\\n",
    "        DIR+'forcing/historical.nc'\\\n",
    "    ).bounds.add_missing_bounds()\\\n",
    "    .sel(time=slice('1870-01-01','2020-12-31'))\\\n",
    "    .temporal.group_average('sst anomaly','year')\n",
    "yr = np.arange(1870,2021)\n",
    "\n",
    "fig, ax = plt.subplots(1,1,figsize=(9,4))\n",
    "for ii, mod in enumerate(model_list):\n",
    "    dct = ds_mod[mod]\n",
    "\n",
    "    # Regrid historical SST to ACE grid\n",
    "    hist_sst = ds_hist.regridder.horizontal(\\\n",
    "        'sst anomaly', \\\n",
    "        dct['grid'], \\\n",
    "        tool='xesmf', \\\n",
    "        method='conservative', \\\n",
    "        periodic=True \\\n",
    "    )\n",
    "    \n",
    "    # Reshape SST for matrix multiplication\n",
    "    sst = np.reshape(hist_sst['sst anomaly'].values,(yr.size,-1))\n",
    "\n",
    "    for A in dct['A_list']:\n",
    "        # Reshape Green's function for matrix multiplication\n",
    "        GF_flat = np.reshape(dct['dR_dSST_star_'+A]*dct['ocean_area'],(-1))\n",
    "        GF_pred = sst.copy() @ GF_flat\n",
    "\n",
    "        # Plot predictions\n",
    "        ax.plot(yr,GF_pred,label=dct['model_name']+\" \"+A)\n",
    "        if SAVE_FIGURES:\n",
    "            with open(\"./figures/R_\"+mod+\"_\"+A+\".dat\",\"w\") as f:\n",
    "                for jj in range(yr.size):\n",
    "                    write_line(f, yr[jj], GF_pred[jj])\n",
    "ax.legend()\n",
    "plt.show()"
   ]
  }
 ],
 "metadata": {
  "kernelspec": {
   "display_name": "Python 3 (ipykernel)",
   "language": "python",
   "name": "python3"
  },
  "language_info": {
   "codemirror_mode": {
    "name": "ipython",
    "version": 3
   },
   "file_extension": ".py",
   "mimetype": "text/x-python",
   "name": "python",
   "nbconvert_exporter": "python",
   "pygments_lexer": "ipython3",
   "version": "3.11.7"
  }
 },
 "nbformat": 4,
 "nbformat_minor": 2
}
